{
  "nbformat": 4,
  "nbformat_minor": 0,
  "metadata": {
    "colab": {
      "name": "youtube_to_pdf.ipynb",
      "provenance": [],
      "collapsed_sections": []
    },
    "kernelspec": {
      "name": "python3",
      "display_name": "Python 3"
    },
    "language_info": {
      "name": "python"
    }
  },
  "cells": [
    {
      "cell_type": "markdown",
      "metadata": {
        "id": "LuP8EgkJfJua"
      },
      "source": [
        "---\n",
        "## Installs"
      ]
    },
    {
      "cell_type": "code",
      "metadata": {
        "colab": {
          "base_uri": "https://localhost:8080/"
        },
        "id": "XXXOL8vCcSTx",
        "outputId": "22c6d9de-24c7-4c12-a38d-f639bbc2840f"
      },
      "source": [
        "!pip install pytube\n",
        "!pip install imagehash"
      ],
      "execution_count": 1,
      "outputs": [
        {
          "output_type": "stream",
          "text": [
            "Collecting pytube\n",
            "\u001b[?25l  Downloading https://files.pythonhosted.org/packages/9f/2e/92c42ac4fd8b702bb9fcac5a61bcb9740506376008aaa2c2093f6cbf4cb6/pytube-10.9.2-py3-none-any.whl (54kB)\n",
            "\r\u001b[K     |██████                          | 10kB 15.0MB/s eta 0:00:01\r\u001b[K     |████████████                    | 20kB 21.1MB/s eta 0:00:01\r\u001b[K     |██████████████████              | 30kB 14.1MB/s eta 0:00:01\r\u001b[K     |████████████████████████        | 40kB 11.1MB/s eta 0:00:01\r\u001b[K     |██████████████████████████████  | 51kB 6.8MB/s eta 0:00:01\r\u001b[K     |████████████████████████████████| 61kB 4.6MB/s \n",
            "\u001b[?25hInstalling collected packages: pytube\n",
            "Successfully installed pytube-10.9.2\n",
            "Collecting imagehash\n",
            "\u001b[?25l  Downloading https://files.pythonhosted.org/packages/ef/bb/612c6ef49a57acf2af6cfd928b8913dea2837bd96cc0d8ef6ec8d2014158/ImageHash-4.2.1.tar.gz (812kB)\n",
            "\u001b[K     |████████████████████████████████| 819kB 6.8MB/s \n",
            "\u001b[?25hRequirement already satisfied: six in /usr/local/lib/python3.7/dist-packages (from imagehash) (1.15.0)\n",
            "Requirement already satisfied: numpy in /usr/local/lib/python3.7/dist-packages (from imagehash) (1.19.5)\n",
            "Requirement already satisfied: scipy in /usr/local/lib/python3.7/dist-packages (from imagehash) (1.4.1)\n",
            "Requirement already satisfied: pillow in /usr/local/lib/python3.7/dist-packages (from imagehash) (7.1.2)\n",
            "Requirement already satisfied: PyWavelets in /usr/local/lib/python3.7/dist-packages (from imagehash) (1.1.1)\n",
            "Building wheels for collected packages: imagehash\n",
            "  Building wheel for imagehash (setup.py) ... \u001b[?25l\u001b[?25hdone\n",
            "  Created wheel for imagehash: filename=ImageHash-4.2.1-py2.py3-none-any.whl size=295206 sha256=83343e2a1ab7b5444263c3636a479d84cdf8e063b639ac10d5f658c01609b88a\n",
            "  Stored in directory: /root/.cache/pip/wheels/32/3c/c7/b0653122fc94b27b4c60d2260896bb4759e56396c6720d0a6c\n",
            "Successfully built imagehash\n",
            "Installing collected packages: imagehash\n",
            "Successfully installed imagehash-4.2.1\n"
          ],
          "name": "stdout"
        }
      ]
    },
    {
      "cell_type": "markdown",
      "metadata": {
        "id": "gQWN_m13fZVA"
      },
      "source": [
        "## Import Libraries"
      ]
    },
    {
      "cell_type": "code",
      "metadata": {
        "id": "Gwo0RHF1fJbI"
      },
      "source": [
        "from pytube import YouTube\n",
        "import os\n",
        "import cv2\n",
        "import time\n",
        "import re\n",
        "import numpy as np\n",
        "import imagehash\n",
        "from PIL import Image"
      ],
      "execution_count": 8,
      "outputs": []
    },
    {
      "cell_type": "markdown",
      "metadata": {
        "id": "wApw1x02f_wq"
      },
      "source": [
        "---\n",
        "## Parameters (link, path)"
      ]
    },
    {
      "cell_type": "code",
      "metadata": {
        "id": "Xtxp0UDfg3eY"
      },
      "source": [
        "# pdf'e dönüştürülmesi istenen video linki\n",
        "link = \"https://www.youtube.com/watch?v=fHLhBnmwUM0\"\n",
        "\n",
        "# Video adı için kullanılan değişken\n",
        "filename = \"deneme\""
      ],
      "execution_count": 3,
      "outputs": []
    },
    {
      "cell_type": "markdown",
      "metadata": {
        "id": "XCdKnv4Y7Hl7"
      },
      "source": [
        "---\n",
        "## Download the model and save screenshots"
      ]
    },
    {
      "cell_type": "code",
      "metadata": {
        "id": "8fVbjkzwdkFY"
      },
      "source": [
        "def downloadYouTube(videourl, filename):\n",
        "  \"\"\"\n",
        "  Youtube'dan video indirmeyi sağlar.\n",
        "  videourl : indirilecek olan video'nun linki {str}\n",
        "  filename : indirdikten sonra isimlendirilmesi için kullanılacak ad {str}\n",
        "  \"\"\"\n",
        "\n",
        "  yt = YouTube(videourl)\n",
        "  yt = yt.streams.filter(progressive=True, file_extension='mp4').order_by('resolution').desc().first()\n",
        "  yt.download(filename = filename)\n",
        "  return yt, yt.title\n",
        "\n",
        "yt, title = downloadYouTube(link,filename)"
      ],
      "execution_count": 4,
      "outputs": []
    },
    {
      "cell_type": "code",
      "metadata": {
        "colab": {
          "base_uri": "https://localhost:8080/"
        },
        "id": "-04Kv5GlY7HS",
        "outputId": "abda4a81-cfe0-49ec-d3ed-c07661d1126a"
      },
      "source": [
        "img_count = 0\n",
        "counter = 0\n",
        "success = True\n",
        "\n",
        "# Screenshot'ların kaydedileceği path:\n",
        "path = \"/content/screenshots/\"\n",
        "\n",
        "# video'nun olduğu path'i alıp videoyu okuyorum:\n",
        "video_path = f\"/content/{filename}.mp4\"\n",
        "vidcap = cv2.VideoCapture(video_path)\n",
        "\n",
        "# Eğer screenshot klasörü yoksa aç veya devam et diyorum:\n",
        "if not os.path.exists(path):\n",
        "    os.makedirs(path)\n",
        "\n",
        "# Screenshot'ları oluşturmak için while'a aldım.\n",
        "while success:\n",
        "  success,image = vidcap.read()\n",
        "  counter+=1\n",
        "\n",
        "  # Frame frame ss alırken bunların sırasını da korumak benim için önemli.\n",
        "  # Nedeni ise pdf oluştururken de bu sırayı alacağım için. Eğer karışık olursa\n",
        "  # pdf de karışık ve sırasız gelen frame'lerden oluşur.\n",
        "  if counter%10 == 0 :\n",
        "    try : \n",
        "      if img_count < int(10) :\n",
        "        dst =path + \"000\" + str(img_count) + \".jpg\"\n",
        "        cv2.imwrite(dst, image)\n",
        "        img_count +=1\n",
        "\n",
        "      if img_count >= int(10) and img_count < int(100) :\n",
        "        dst =path + \"00\" + str(img_count) + \".jpg\"\n",
        "        cv2.imwrite(dst, image)\n",
        "        img_count +=1\n",
        "\n",
        "      if img_count>= int(100) and img_count< int(1000) :\n",
        "        dst =path + \"0\" + str(img_count) + \".jpg\"\n",
        "        cv2.imwrite(dst, image)\n",
        "        img_count +=1\n",
        "      \n",
        "      if img_count>= int(1000) :\n",
        "        dst =path + str(img_count) + \".jpg\"\n",
        "        cv2.imwrite(dst, image)\n",
        "        img_count +=1\n",
        "    except : #Video bittiğinde hata geliyor o yüzden pass diyerek bitirdim.\n",
        "      pass"
      ],
      "execution_count": 5,
      "outputs": [
        {
          "output_type": "stream",
          "text": [
            "/content/deneme.mp4\n"
          ],
          "name": "stdout"
        }
      ]
    },
    {
      "cell_type": "markdown",
      "metadata": {
        "id": "hiylG_337O-r"
      },
      "source": [
        "---\n",
        "## Compare the differences in sequential images"
      ]
    },
    {
      "cell_type": "code",
      "metadata": {
        "id": "088TNACWDrf8"
      },
      "source": [
        "#Kaç adet screenshot'ım olduğunu öğreniyorum:\n",
        "num_of_images = len(os.listdir(path))\n",
        "\n",
        "# Düzgün numaralandırarak isimlendirdiğim screenshot'ları sıralıyorum:\n",
        "images = sorted(os.listdir(path))\n",
        "\n",
        "# Belirlenen farktan fazla değişiklik olan frame'in ekleneceği liste\n",
        "alınacaklar = []\n",
        "\n",
        "# kaç bit değişiklik olacağı bilgisini veriyorum. Bir nevi threshold gibi düşünülebilir.\n",
        "cutoff = 5\n",
        "\n",
        "for x, _ in enumerate(images):\n",
        "  #Eğer toplam ss sayımdan bir eksiğine geldiysem döngüden çık.\n",
        "  if x == num_of_images-1:\n",
        "    break\n",
        "  else:\n",
        "    #Peşi sıra gelen iki imgenin piksel olarak farkını alıp benzerlik yakalamaya çalışıyorum:\n",
        "    imge1 = imagehash.average_hash(Image.open(path + images[x]))\n",
        "    imge2 = imagehash.average_hash(Image.open(path + images[x+1]))\n",
        "    # Benzerlik belirlediğim değerden büyükse bu imgeyi alınacaklar listesine ekle diyorum:\n",
        "    if imge1 - imge2 > cutoff:\n",
        "      alınacaklar.append(images[x])"
      ],
      "execution_count": 9,
      "outputs": []
    },
    {
      "cell_type": "code",
      "metadata": {
        "id": "R-SRS2sTB65C"
      },
      "source": [
        "# Alınacaklar listesi haricindekileri aldım. Ekrana bastırmaması için de boş bir değişkene atadım.\n",
        "_ = [os.remove(path + str(image)) for image in images if image not in alınacaklar]"
      ],
      "execution_count": 10,
      "outputs": []
    },
    {
      "cell_type": "markdown",
      "metadata": {
        "id": "hSNGvqhU-uXL"
      },
      "source": [
        "---\n",
        "## Image to pdf in order"
      ]
    },
    {
      "cell_type": "code",
      "metadata": {
        "colab": {
          "base_uri": "https://localhost:8080/"
        },
        "id": "Jkrl9lts-PmD",
        "outputId": "70513a71-d505-4627-8b48-9543b97b5769"
      },
      "source": [
        "imagelist = []\n",
        "\n",
        "# Yine ekran görüntülerini sıraladım.\n",
        "# Bunu yapmamın nedeni pdf olacağı zaman sıranın korunması.\n",
        "images = sorted(os.listdir(path))\n",
        "\n",
        "# Elimdeki ss'leri okuyup RGB'ye çevirdim ve listeye attım.\n",
        "for x, image in enumerate(images): \n",
        "  if x>0:\n",
        "    image1 = Image.open(path + image, mode=\"r\")\n",
        "    im1 = image1.convert('RGB')\n",
        "    imagelist.append(im1)\n",
        "\n",
        "# İlk ekran görüntüsünü ayrıca alıyorum. Bunu yapmamın sebebi pdf oluştururken\n",
        "# bunun üzerinden fonksiyonu çağıracağım.\n",
        "image1 = Image.open(path + images[0], mode=\"r\")\n",
        "im1 = image1.convert('RGB')\n",
        "\n",
        "# pdf kaydedilirken kullanılacak isim videonun ismi olması için title verdim\n",
        "saved_name = f\"{title}.pdf\"\n",
        "\n",
        "#ilk 4-5 frame intro olduğu için onları almayacağım:\n",
        "#Sizin için farklılık gösterebilir.\n",
        "imagelist = imagelist[4:]\n",
        "\n",
        "# İlk sayfa üzerinden save fonksiyonunu çağırdım.\n",
        "# Kaydedilecek ismi verdikten sonra tüm resimleri sırasıyla append'laması\n",
        "# için imagelist'imi verdim.\n",
        "im1.save(saved_name,save_all=True, append_images=imagelist)\n",
        "print(f\"{title} saved with pdf format.\")"
      ],
      "execution_count": 16,
      "outputs": [
        {
          "output_type": "stream",
          "text": [
            "StatQuest: Boxplots, Clearly Explained saved with pdf format.\n"
          ],
          "name": "stdout"
        }
      ]
    },
    {
      "cell_type": "markdown",
      "metadata": {
        "id": "RFSBOqSr8qYS"
      },
      "source": [
        "---\n",
        "## İŞİN BİTİNCE ÇALIŞTIR!! (Ekran Görüntülerinin Hepsini Siler)"
      ]
    },
    {
      "cell_type": "code",
      "metadata": {
        "id": "63JWFpsv8sgi"
      },
      "source": [
        "\"\"\" \n",
        "Videodan oluşturulan tüm ekran görüntüleri silmek için kullanılır.\n",
        "Bellekte yer tutmaması için yazdım ancak content'te çalışıyorsanız\n",
        "bunu çalıştırmak zorunda değilsiniz oturum kapanınca content'in \n",
        "içindekiler zaten otomatik silinecektir.\n",
        "\"\"\"\n",
        "#[os.remove(path + str(file)) for file in os.listdir(path) if file.endswith('.jpg')]"
      ],
      "execution_count": 13,
      "outputs": []
    }
  ]
}